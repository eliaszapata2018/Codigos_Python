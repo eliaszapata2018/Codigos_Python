{
  "nbformat": 4,
  "nbformat_minor": 0,
  "metadata": {
    "colab": {
      "provenance": [],
      "include_colab_link": true
    },
    "kernelspec": {
      "name": "python3",
      "display_name": "Python 3"
    },
    "language_info": {
      "name": "python"
    }
  },
  "cells": [
    {
      "cell_type": "markdown",
      "metadata": {
        "id": "view-in-github",
        "colab_type": "text"
      },
      "source": [
        "<a href=\"https://colab.research.google.com/github/eliaszapata2018/Codigos_Python/blob/main/Aula_23.ipynb\" target=\"_parent\"><img src=\"https://colab.research.google.com/assets/colab-badge.svg\" alt=\"Open In Colab\"/></a>"
      ]
    },
    {
      "cell_type": "code",
      "source": [
        "print(var)\n",
        "print(\"Olha, essa mensagem está na saída\")"
      ],
      "metadata": {
        "colab": {
          "base_uri": "https://localhost:8080/",
          "height": 184
        },
        "id": "aWCSBFThNHKK",
        "outputId": "2442d96b-b902-418a-911b-ae20a0fb6a0c"
      },
      "execution_count": null,
      "outputs": [
        {
          "output_type": "error",
          "ename": "NameError",
          "evalue": "ignored",
          "traceback": [
            "\u001b[0;31m---------------------------------------------------------------------------\u001b[0m",
            "\u001b[0;31mNameError\u001b[0m                                 Traceback (most recent call last)",
            "\u001b[0;32m<ipython-input-6-f2bc745566c8>\u001b[0m in \u001b[0;36m<module>\u001b[0;34m\u001b[0m\n\u001b[0;32m----> 1\u001b[0;31m \u001b[0mprint\u001b[0m\u001b[0;34m(\u001b[0m\u001b[0mvar\u001b[0m\u001b[0;34m)\u001b[0m\u001b[0;34m\u001b[0m\u001b[0;34m\u001b[0m\u001b[0m\n\u001b[0m\u001b[1;32m      2\u001b[0m \u001b[0mprint\u001b[0m\u001b[0;34m(\u001b[0m\u001b[0;34m\"Olha, essa mensagem está na saída\"\u001b[0m\u001b[0;34m)\u001b[0m\u001b[0;34m\u001b[0m\u001b[0;34m\u001b[0m\u001b[0m\n",
            "\u001b[0;31mNameError\u001b[0m: name 'var' is not defined"
          ]
        }
      ]
    },
    {
      "cell_type": "code",
      "source": [
        "try: \n",
        "  print(var)\n",
        "except:\n",
        "  print(\"Ocorreu um erro\")\n",
        "\n",
        "print(\"Olha, essa mensagem está na saída\")"
      ],
      "metadata": {
        "colab": {
          "base_uri": "https://localhost:8080/"
        },
        "id": "Ef_alrUAMOlw",
        "outputId": "cdd23869-a64b-438e-a7b6-85cb66440bcc"
      },
      "execution_count": null,
      "outputs": [
        {
          "output_type": "stream",
          "name": "stdout",
          "text": [
            "Ocorreu um erro\n",
            "Olha, essa mensagem está na saída\n"
          ]
        }
      ]
    },
    {
      "cell_type": "code",
      "execution_count": null,
      "metadata": {
        "colab": {
          "base_uri": "https://localhost:8080/"
        },
        "id": "NX97ZJMOnbbn",
        "outputId": "8a7ceac0-215d-4263-bec3-1cc61e244857"
      },
      "outputs": [
        {
          "output_type": "stream",
          "name": "stdout",
          "text": [
            "Ocorreu um erro:  name 'var' is not defined\n"
          ]
        }
      ],
      "source": [
        "try: \n",
        "  print(var)\n",
        "\n",
        "except Exception as erro:\n",
        "  print(\"Ocorreu um erro: \", erro)"
      ]
    },
    {
      "cell_type": "code",
      "source": [
        "try: \n",
        "  var = 16\n",
        "  print(var)\n",
        "\n",
        "except Exception as erro:\n",
        "  print(\"Ocorreu um erro: \", erro)\n",
        "\n",
        "else:\n",
        "  print(\"Sucesso na execução!\")"
      ],
      "metadata": {
        "colab": {
          "base_uri": "https://localhost:8080/"
        },
        "id": "05LHHj0-QHqv",
        "outputId": "b72b3883-6b65-48cc-bcb0-c8b98e97e1f5"
      },
      "execution_count": null,
      "outputs": [
        {
          "output_type": "stream",
          "name": "stdout",
          "text": [
            "16\n",
            "Sucesso na execução!\n"
          ]
        }
      ]
    },
    {
      "cell_type": "code",
      "source": [
        "try: \n",
        "  print(a)\n",
        "\n",
        "except Exception as erro:\n",
        "  print(\"Ocorreu um erro: \", erro)\n",
        "\n",
        "else:\n",
        "  print(\"Sucesso na execução!\")\n",
        "\n",
        "finally:\n",
        "  a = 0 # valor padrão\n",
        "\n",
        "print(a)"
      ],
      "metadata": {
        "colab": {
          "base_uri": "https://localhost:8080/"
        },
        "id": "h29E65l8RMc1",
        "outputId": "e1d45288-06a4-4dc0-a71c-fd7b3b219ed2"
      },
      "execution_count": null,
      "outputs": [
        {
          "output_type": "stream",
          "name": "stdout",
          "text": [
            "Ocorreu um erro:  name 'a' is not defined\n",
            "0\n"
          ]
        }
      ]
    }
  ]
}