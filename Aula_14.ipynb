{
  "nbformat": 4,
  "nbformat_minor": 0,
  "metadata": {
    "colab": {
      "provenance": [],
      "include_colab_link": true
    },
    "kernelspec": {
      "name": "python3",
      "display_name": "Python 3"
    },
    "language_info": {
      "name": "python"
    }
  },
  "cells": [
    {
      "cell_type": "markdown",
      "metadata": {
        "id": "view-in-github",
        "colab_type": "text"
      },
      "source": [
        "<a href=\"https://colab.research.google.com/github/eliaszapata2018/Codigos_Python/blob/main/Aula_14.ipynb\" target=\"_parent\"><img src=\"https://colab.research.google.com/assets/colab-badge.svg\" alt=\"Open In Colab\"/></a>"
      ]
    },
    {
      "cell_type": "markdown",
      "source": [
        "# Aula 14 - Loops I"
      ],
      "metadata": {
        "id": "2q_qmMn8Nghk"
      }
    },
    {
      "cell_type": "code",
      "execution_count": null,
      "metadata": {
        "colab": {
          "base_uri": "https://localhost:8080/"
        },
        "id": "-jO6vz7cMoQc",
        "outputId": "a6c239c0-ad94-4d42-9368-a0a88a708238"
      },
      "outputs": [
        {
          "output_type": "stream",
          "name": "stdout",
          "text": [
            "Tem  5 rs ou Rs\n"
          ]
        }
      ],
      "source": [
        "frase = \"o rato roeu a roupa do Rei de Roma\"\n",
        "\n",
        "contador = 0 # contador de R ou r, começa no 0 pq não tem nenhum no inicio\n",
        "i = 0 # i para fazer controle do index\n",
        "while i < len(frase):\n",
        "  if frase[i] == 'r' or frase[i] == 'R':\n",
        "    contador = contador + 1\n",
        "  i = i + 1\n",
        "\n",
        "print(\"Tem \", contador, \"rs ou Rs\")"
      ]
    },
    {
      "cell_type": "code",
      "source": [
        "frase = \"o rato roeu a roupa do Rei de Roma\"\n",
        "pos = 0 # variável para guardar a posição do R\n",
        "i = 0\n",
        "while i < len(frase):\n",
        "  if frase[i] == 'R':\n",
        "    pos = i\n",
        "    break\n",
        "  i = i + 1\n",
        "\n",
        "print(\"R está no posição \", pos)"
      ],
      "metadata": {
        "colab": {
          "base_uri": "https://localhost:8080/"
        },
        "id": "cCoeJQf9We2i",
        "outputId": "bb87e5c3-7f6f-4de3-ffb2-18084e9c15d0"
      },
      "execution_count": null,
      "outputs": [
        {
          "output_type": "stream",
          "name": "stdout",
          "text": [
            "R está no posição  23\n"
          ]
        }
      ]
    }
  ]
}