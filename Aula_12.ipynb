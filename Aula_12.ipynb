{
  "nbformat": 4,
  "nbformat_minor": 0,
  "metadata": {
    "colab": {
      "provenance": [],
      "include_colab_link": true
    },
    "kernelspec": {
      "name": "python3",
      "display_name": "Python 3"
    },
    "language_info": {
      "name": "python"
    }
  },
  "cells": [
    {
      "cell_type": "markdown",
      "metadata": {
        "id": "view-in-github",
        "colab_type": "text"
      },
      "source": [
        "<a href=\"https://colab.research.google.com/github/eliaszapata2018/Codigos_Python/blob/main/Aula_12.ipynb\" target=\"_parent\"><img src=\"https://colab.research.google.com/assets/colab-badge.svg\" alt=\"Open In Colab\"/></a>"
      ]
    },
    {
      "cell_type": "markdown",
      "source": [
        "# Aula 12 - Expressão Lógica"
      ],
      "metadata": {
        "id": "-yQ3NI9jK2yw"
      }
    },
    {
      "cell_type": "code",
      "execution_count": null,
      "metadata": {
        "colab": {
          "base_uri": "https://localhost:8080/"
        },
        "id": "FKWWrFtsK0M5",
        "outputId": "ac77cf08-157d-4720-fe74-4a2f107673cc"
      },
      "outputs": [
        {
          "output_type": "stream",
          "name": "stdout",
          "text": [
            "False\n"
          ]
        }
      ],
      "source": [
        "p = True\n",
        "res = not p\n",
        "print(res)"
      ]
    },
    {
      "cell_type": "code",
      "source": [
        "p = 7 < 3\n",
        "print(p) # antes \n",
        "res = not p\n",
        "print(res) # depois"
      ],
      "metadata": {
        "colab": {
          "base_uri": "https://localhost:8080/"
        },
        "id": "bWG3B6wQSxvM",
        "outputId": "9b2ca2c1-bd43-4190-eb9b-6b464a9f398a"
      },
      "execution_count": null,
      "outputs": [
        {
          "output_type": "stream",
          "name": "stdout",
          "text": [
            "False\n",
            "True\n"
          ]
        }
      ]
    },
    {
      "cell_type": "code",
      "source": [
        "p = False\n",
        "q = True\n",
        "res = p or q\n",
        "print(res)"
      ],
      "metadata": {
        "colab": {
          "base_uri": "https://localhost:8080/"
        },
        "id": "E58M4ecUTHDj",
        "outputId": "8e4faebe-6663-4e50-cdcf-8ca5fa1a8603"
      },
      "execution_count": null,
      "outputs": [
        {
          "output_type": "stream",
          "name": "stdout",
          "text": [
            "True\n"
          ]
        }
      ]
    },
    {
      "cell_type": "code",
      "source": [
        "p = 7 < 3\n",
        "q = 7 == 5\n",
        "res = p or q\n",
        "print(res)"
      ],
      "metadata": {
        "colab": {
          "base_uri": "https://localhost:8080/"
        },
        "id": "6j8AqJ69Tr0r",
        "outputId": "61ef044a-edc5-4ae9-e01d-a9abe3332aef"
      },
      "execution_count": null,
      "outputs": [
        {
          "output_type": "stream",
          "name": "stdout",
          "text": [
            "False\n"
          ]
        }
      ]
    },
    {
      "cell_type": "code",
      "source": [
        "p = True\n",
        "q = False\n",
        "res = p and q\n",
        "print(res)"
      ],
      "metadata": {
        "colab": {
          "base_uri": "https://localhost:8080/"
        },
        "id": "r9r6K_J5UA2T",
        "outputId": "ba17e4be-5a5a-4aa8-f74d-8324f13aa532"
      },
      "execution_count": null,
      "outputs": [
        {
          "output_type": "stream",
          "name": "stdout",
          "text": [
            "False\n"
          ]
        }
      ]
    },
    {
      "cell_type": "code",
      "source": [
        "p = 7 > 3\n",
        "q = 5 != 6\n",
        "res = p and q\n",
        "print(res)"
      ],
      "metadata": {
        "colab": {
          "base_uri": "https://localhost:8080/"
        },
        "id": "Ho3-G3LgUgvP",
        "outputId": "89df82c2-3b17-4ee5-e9e3-c7596687de11"
      },
      "execution_count": null,
      "outputs": [
        {
          "output_type": "stream",
          "name": "stdout",
          "text": [
            "True\n"
          ]
        }
      ]
    }
  ]
}