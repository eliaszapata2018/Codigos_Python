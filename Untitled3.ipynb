{
  "nbformat": 4,
  "nbformat_minor": 0,
  "metadata": {
    "colab": {
      "provenance": [],
      "authorship_tag": "ABX9TyPlwy3H1lS2f3bcjwI7s9+1",
      "include_colab_link": true
    },
    "kernelspec": {
      "name": "python3",
      "display_name": "Python 3"
    },
    "language_info": {
      "name": "python"
    }
  },
  "cells": [
    {
      "cell_type": "markdown",
      "metadata": {
        "id": "view-in-github",
        "colab_type": "text"
      },
      "source": [
        "<a href=\"https://colab.research.google.com/github/eliaszapata2018/Codigos_Python/blob/main/Untitled3.ipynb\" target=\"_parent\"><img src=\"https://colab.research.google.com/assets/colab-badge.svg\" alt=\"Open In Colab\"/></a>"
      ]
    },
    {
      "cell_type": "code",
      "execution_count": 5,
      "metadata": {
        "colab": {
          "base_uri": "https://localhost:8080/"
        },
        "id": "DdPIjR1iOw01",
        "outputId": "a78995ff-e638-4d6f-a481-2ffb83ad7f5b"
      },
      "outputs": [
        {
          "output_type": "stream",
          "name": "stdout",
          "text": [
            "Entre com a nota do trabalho 1: 8\n",
            "Entre com a nota do trabalho 2: 4\n",
            "Aluno en situaçao de Trabalho Final. Entre a nota do TF 5\n",
            "Aluno aprovado com a média:  5.5\n"
          ]
        }
      ],
      "source": [
        "'''EXERCÍCIO DECLARANDO FUNÇOES\n",
        "\n",
        "● Considerando um curso de programação a nota final é calculada a partir da\n",
        "seguinte conta: são feitos dois trabalhos (t1 e t2), caso a média (m) deles seja\n",
        "maior ou igual do que 7.0 o aluno é aprovado direto; se m for menor ou igual a\n",
        "3.0 o aluno está reprovado, se não o aluno vai para o trabalho final (tf).\n",
        "● Caso o aluno tenha que fazer o trabalho final, a média final é calculada da\n",
        "seguinte forma: a média aritmética entre a nota do trabalho final e a média m\n",
        "anterior.\n",
        "○ Se mf for maior ou igual a 5.0 o aluno está aprovado, se for menor o\n",
        "aluno está reprovado.\n",
        "\n",
        "● Escreva um programa em python que calcule a nota final desse aluno.\n",
        "'''\n",
        "\n",
        "def calcula_media(valor1, valor2):\n",
        "  return (valor1 + valor2) / 2\n",
        "\n",
        "t1 = float(input('Entre com a nota do trabalho 1: '))\n",
        "t2 = float(input('Entre com a nota do trabalho 2: '))\n",
        "\n",
        "m = calcula_media(t1, t2) # m é a média dos trabalhos\n",
        "\n",
        "if m >= 7.0: # aluno aprovado\n",
        "  print('Aluno aprovado! Com média: ', m)\n",
        "elif m >= 3.0 and m < 7.0: # aluno en situaçao de trabalho final\n",
        "  tf = float(input('Aluno en situaçao de Trabalho Final. Entre a nota do TF '))\n",
        "  mf = calcula_media(m, tf)\n",
        "  if mf >= 5.0:\n",
        "    print('Aluno aprovado com a média: ', mf)\n",
        "  else:\n",
        "    print('Aluno reprovado com a média: ', mf)\n",
        "else: # aluno reprovado direto\n",
        "  print('Aluno reprovado direto com média: ', m)"
      ]
    }
  ]
}