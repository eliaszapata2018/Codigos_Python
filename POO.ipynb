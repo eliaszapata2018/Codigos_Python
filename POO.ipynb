{
  "nbformat": 4,
  "nbformat_minor": 0,
  "metadata": {
    "colab": {
      "provenance": [],
      "include_colab_link": true
    },
    "kernelspec": {
      "name": "python3",
      "display_name": "Python 3"
    },
    "language_info": {
      "name": "python"
    }
  },
  "cells": [
    {
      "cell_type": "markdown",
      "metadata": {
        "id": "view-in-github",
        "colab_type": "text"
      },
      "source": [
        "<a href=\"https://colab.research.google.com/github/eliaszapata2018/Codigos_Python/blob/main/POO.ipynb\" target=\"_parent\"><img src=\"https://colab.research.google.com/assets/colab-badge.svg\" alt=\"Open In Colab\"/></a>"
      ]
    },
    {
      "cell_type": "code",
      "execution_count": null,
      "metadata": {
        "id": "bFObw2wX-4p3"
      },
      "outputs": [],
      "source": [
        "class Pessoa:\n",
        "  def __init__(self, cpf, nome, email):\n",
        "    self.cpf = cpf\n",
        "    self.nome = nome\n",
        "    self.email = email\n",
        "\n",
        "  def cadastrar(self):\n",
        "    print(\"A pessoa\", self.nome, \"foi cadastrada com sucesso!\")"
      ]
    },
    {
      "cell_type": "code",
      "source": [
        "registro1 = Pessoa(17788529710, \"Larissa\", \"galeno@dcc.ufrj.br\")\n",
        "registro1.cadastrar()"
      ],
      "metadata": {
        "colab": {
          "base_uri": "https://localhost:8080/"
        },
        "id": "20VS2zIsVAAx",
        "outputId": "9ff3351e-c57a-4599-fde1-c6524416c74d"
      },
      "execution_count": null,
      "outputs": [
        {
          "output_type": "stream",
          "name": "stdout",
          "text": [
            "A pessoa Larissa foi cadastrada com sucesso!\n"
          ]
        }
      ]
    }
  ]
}