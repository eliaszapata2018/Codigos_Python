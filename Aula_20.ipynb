{
  "nbformat": 4,
  "nbformat_minor": 0,
  "metadata": {
    "colab": {
      "provenance": [],
      "include_colab_link": true
    },
    "kernelspec": {
      "name": "python3",
      "display_name": "Python 3"
    },
    "language_info": {
      "name": "python"
    }
  },
  "cells": [
    {
      "cell_type": "markdown",
      "metadata": {
        "id": "view-in-github",
        "colab_type": "text"
      },
      "source": [
        "<a href=\"https://colab.research.google.com/github/eliaszapata2018/Codigos_Python/blob/main/Aula_20.ipynb\" target=\"_parent\"><img src=\"https://colab.research.google.com/assets/colab-badge.svg\" alt=\"Open In Colab\"/></a>"
      ]
    },
    {
      "cell_type": "markdown",
      "source": [
        "# Aula 20 - Cuidado com Listas"
      ],
      "metadata": {
        "id": "3TSqKjdEP9PU"
      }
    },
    {
      "cell_type": "markdown",
      "source": [
        "## Copiar Listas\n",
        "Passar de uma variável para outra"
      ],
      "metadata": {
        "id": "FlVJfGvgxd0F"
      }
    },
    {
      "cell_type": "code",
      "execution_count": null,
      "metadata": {
        "id": "ucAjQjwbP7hx",
        "colab": {
          "base_uri": "https://localhost:8080/"
        },
        "outputId": "d2691cf5-2a4e-44eb-ade0-eaf7d99b93fd"
      },
      "outputs": [
        {
          "output_type": "stream",
          "name": "stdout",
          "text": [
            "[1, 2, 3, 4, 5]\n"
          ]
        }
      ],
      "source": [
        "lista1 = [1, 2, 3, 4, 5]\n",
        "print(lista1)"
      ]
    },
    {
      "cell_type": "code",
      "source": [
        "lista2 = lista1\n",
        "print(lista2)"
      ],
      "metadata": {
        "colab": {
          "base_uri": "https://localhost:8080/"
        },
        "id": "yoO9a3EdxuyS",
        "outputId": "216e5c12-6c87-450c-94db-c8d4b477021f"
      },
      "execution_count": null,
      "outputs": [
        {
          "output_type": "stream",
          "name": "stdout",
          "text": [
            "[1, 2, 3, 4, 5]\n"
          ]
        }
      ]
    },
    {
      "cell_type": "markdown",
      "source": [
        "Esperamos que `lista1` e `lista2` sejam variáveis independentes... mas elas não são. A alteração que faço em uma lista, altera a outra"
      ],
      "metadata": {
        "id": "eS68lhLWx1Ag"
      }
    },
    {
      "cell_type": "code",
      "source": [
        "lista1.append(6)\n",
        "print(lista1)"
      ],
      "metadata": {
        "colab": {
          "base_uri": "https://localhost:8080/"
        },
        "id": "NeeGydccxzBv",
        "outputId": "df701a84-f080-41a2-e3a7-9b7af7917d4a"
      },
      "execution_count": null,
      "outputs": [
        {
          "output_type": "stream",
          "name": "stdout",
          "text": [
            "[1, 2, 3, 4, 5, 6]\n"
          ]
        }
      ]
    },
    {
      "cell_type": "code",
      "source": [
        "print(lista2)"
      ],
      "metadata": {
        "colab": {
          "base_uri": "https://localhost:8080/"
        },
        "id": "3QeD4JODx9vP",
        "outputId": "a752edeb-b624-4305-a924-aae34b3d21eb"
      },
      "execution_count": null,
      "outputs": [
        {
          "output_type": "stream",
          "name": "stdout",
          "text": [
            "[1, 2, 3, 4, 5, 6]\n"
          ]
        }
      ]
    },
    {
      "cell_type": "code",
      "source": [
        "lista2[1] = 22\n",
        "print(lista2)"
      ],
      "metadata": {
        "colab": {
          "base_uri": "https://localhost:8080/"
        },
        "id": "jp6feIY5ypTI",
        "outputId": "9b0478e6-4f17-40bb-aaff-9f8016bcc6b2"
      },
      "execution_count": null,
      "outputs": [
        {
          "output_type": "stream",
          "name": "stdout",
          "text": [
            "[1, 22, 3, 4, 5, 6]\n"
          ]
        }
      ]
    },
    {
      "cell_type": "code",
      "source": [
        "print(lista1)"
      ],
      "metadata": {
        "colab": {
          "base_uri": "https://localhost:8080/"
        },
        "id": "4kRpXFMBy1JN",
        "outputId": "2d24030d-fc16-447a-9bb1-eeb68d903b6b"
      },
      "execution_count": null,
      "outputs": [
        {
          "output_type": "stream",
          "name": "stdout",
          "text": [
            "[1, 22, 3, 4, 5, 6]\n"
          ]
        }
      ]
    },
    {
      "cell_type": "markdown",
      "source": [
        "#### Solução"
      ],
      "metadata": {
        "id": "1u52SP6ey29C"
      }
    },
    {
      "cell_type": "code",
      "source": [
        "lista1 = [1, 2, 3, 4, 5]\n",
        "print(lista1)"
      ],
      "metadata": {
        "colab": {
          "base_uri": "https://localhost:8080/"
        },
        "id": "461gAE4Sy4oW",
        "outputId": "1bb5debc-76ff-4b91-898f-e090e73cfbd0"
      },
      "execution_count": null,
      "outputs": [
        {
          "output_type": "stream",
          "name": "stdout",
          "text": [
            "[1, 2, 3, 4, 5]\n"
          ]
        }
      ]
    },
    {
      "cell_type": "code",
      "source": [
        "lista2 = lista1.copy()\n",
        "print(lista2)"
      ],
      "metadata": {
        "colab": {
          "base_uri": "https://localhost:8080/"
        },
        "id": "NZghCxkzy8X7",
        "outputId": "776e1adf-c501-4763-9ece-e9bb09a9bfb6"
      },
      "execution_count": null,
      "outputs": [
        {
          "output_type": "stream",
          "name": "stdout",
          "text": [
            "[1, 2, 3, 4, 5]\n"
          ]
        }
      ]
    },
    {
      "cell_type": "code",
      "source": [
        "lista1.append(6)\n",
        "print(lista1)"
      ],
      "metadata": {
        "colab": {
          "base_uri": "https://localhost:8080/"
        },
        "id": "ixPP_5cbzGcK",
        "outputId": "172ff427-f478-4d09-8183-0a07a4f07b95"
      },
      "execution_count": null,
      "outputs": [
        {
          "output_type": "stream",
          "name": "stdout",
          "text": [
            "[1, 2, 3, 4, 5, 6]\n"
          ]
        }
      ]
    },
    {
      "cell_type": "code",
      "source": [
        "print(lista2)"
      ],
      "metadata": {
        "colab": {
          "base_uri": "https://localhost:8080/"
        },
        "id": "UHXLXuYdzHUL",
        "outputId": "9283665e-6214-420f-88b8-4e24bc364847"
      },
      "execution_count": null,
      "outputs": [
        {
          "output_type": "stream",
          "name": "stdout",
          "text": [
            "[1, 2, 3, 4, 5]\n"
          ]
        }
      ]
    },
    {
      "cell_type": "code",
      "source": [
        "lista2[1] = 22\n",
        "print(lista2)"
      ],
      "metadata": {
        "colab": {
          "base_uri": "https://localhost:8080/"
        },
        "id": "7Ofy5dVczI-X",
        "outputId": "60031e1f-9fb1-47f5-d9db-fc7d5681c5b5"
      },
      "execution_count": null,
      "outputs": [
        {
          "output_type": "stream",
          "name": "stdout",
          "text": [
            "[1, 22, 3, 4, 5]\n"
          ]
        }
      ]
    },
    {
      "cell_type": "code",
      "source": [
        "print(lista1)"
      ],
      "metadata": {
        "colab": {
          "base_uri": "https://localhost:8080/"
        },
        "id": "hP0VAxLnzLv9",
        "outputId": "5bf6f1b9-6137-4ecf-a4d1-2a6636e40233"
      },
      "execution_count": null,
      "outputs": [
        {
          "output_type": "stream",
          "name": "stdout",
          "text": [
            "[1, 2, 3, 4, 5, 6]\n"
          ]
        }
      ]
    },
    {
      "cell_type": "markdown",
      "source": [
        "## Listas nos parâmetros de Função\n",
        "\n",
        "**Formas de passagem de Parâmetro**\n",
        "\n",
        "1.   Por valor: o valor da variável na chamada é copiado para a variável da função, assim as alterações **não são** refletidas na variável original\n",
        "\n",
        "2.   Por referência: como se a própria variável fosse chamada, as alterações **refletem** na variável original\n",
        "\n",
        "No Python, em geral, a passagem é feita por valor. Entretnato, quandoe estamos falando de listas a passagem é por referência\n",
        "\n"
      ],
      "metadata": {
        "id": "5BJl-KIDz7Ol"
      }
    },
    {
      "cell_type": "code",
      "source": [
        "# Por valor\n",
        "\n",
        "def fazConta(a, b):\n",
        "  a = 100\n",
        "  b = a + 1\n",
        "  return a + b\n",
        "\n",
        "a = 1\n",
        "b = 2\n",
        "print(a)\n",
        "print(b)\n",
        "print(fazConta(a, b))\n",
        "print(a)\n",
        "print(b)"
      ],
      "metadata": {
        "colab": {
          "base_uri": "https://localhost:8080/"
        },
        "id": "FgxnJMXC0hWI",
        "outputId": "6775cd4e-fa45-4436-9c7d-1a5d75f998be"
      },
      "execution_count": null,
      "outputs": [
        {
          "output_type": "stream",
          "name": "stdout",
          "text": [
            "1\n",
            "2\n",
            "201\n",
            "1\n",
            "2\n"
          ]
        }
      ]
    },
    {
      "cell_type": "code",
      "source": [
        "# Por referência\n",
        "\n",
        "def fazConta(lista):\n",
        "  lista[0] = 3\n",
        "  return lista[0] + lista[1]\n",
        "\n",
        "lista = [1, 2]\n",
        "print(lista)\n",
        "print(fazConta(lista))\n",
        "print(lista)"
      ],
      "metadata": {
        "colab": {
          "base_uri": "https://localhost:8080/"
        },
        "id": "8r5QLJw0040k",
        "outputId": "625472c7-c033-410e-f968-d56fdac995a8"
      },
      "execution_count": null,
      "outputs": [
        {
          "output_type": "stream",
          "name": "stdout",
          "text": [
            "[1, 2]\n",
            "5\n",
            "[3, 2]\n"
          ]
        }
      ]
    },
    {
      "cell_type": "markdown",
      "source": [
        "#### Solução \n",
        "Se não quero perder a lista original, passo uma cópia para a função"
      ],
      "metadata": {
        "id": "lgrQNNM52mvv"
      }
    },
    {
      "cell_type": "code",
      "source": [
        "def fazConta(lista):\n",
        "  lista[0] = 3\n",
        "  return lista[0] + lista[1]\n",
        "\n",
        "lista = [1, 2]\n",
        "print(lista)\n",
        "print(fazConta(lista.copy())) # ou faço lista2 = lista.copy() e passo lista2\n",
        "print(lista)"
      ],
      "metadata": {
        "colab": {
          "base_uri": "https://localhost:8080/"
        },
        "id": "Hx1w23TG2tNL",
        "outputId": "e8340f65-5055-4ca8-c967-f6bfe5164bfa"
      },
      "execution_count": null,
      "outputs": [
        {
          "output_type": "stream",
          "name": "stdout",
          "text": [
            "[1, 2]\n",
            "5\n",
            "[1, 2]\n"
          ]
        }
      ]
    }
  ]
}