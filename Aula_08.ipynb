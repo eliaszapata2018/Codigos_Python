{
  "nbformat": 4,
  "nbformat_minor": 0,
  "metadata": {
    "colab": {
      "provenance": [],
      "include_colab_link": true
    },
    "kernelspec": {
      "name": "python3",
      "display_name": "Python 3"
    },
    "language_info": {
      "name": "python"
    }
  },
  "cells": [
    {
      "cell_type": "markdown",
      "metadata": {
        "id": "view-in-github",
        "colab_type": "text"
      },
      "source": [
        "<a href=\"https://colab.research.google.com/github/eliaszapata2018/Codigos_Python/blob/main/Aula_08.ipynb\" target=\"_parent\"><img src=\"https://colab.research.google.com/assets/colab-badge.svg\" alt=\"Open In Colab\"/></a>"
      ]
    },
    {
      "cell_type": "markdown",
      "source": [
        "# Aula 08 - Função II"
      ],
      "metadata": {
        "id": "XFDhzaqnxVoV"
      }
    },
    {
      "cell_type": "markdown",
      "source": [
        "## Parâmetros"
      ],
      "metadata": {
        "id": "3Xo5vmPbjM95"
      }
    },
    {
      "cell_type": "code",
      "execution_count": null,
      "metadata": {
        "colab": {
          "base_uri": "https://localhost:8080/"
        },
        "id": "JKE41OmexTw7",
        "outputId": "6ea1488d-22f1-4a2f-eb1a-c544c284b96e"
      },
      "outputs": [
        {
          "output_type": "stream",
          "name": "stdout",
          "text": [
            "Entre com o primerio número 5\n",
            "Entre com o segundo número 4\n",
            "9\n"
          ]
        }
      ],
      "source": [
        "def faz_soma(valor1, valor2):\n",
        "  r = valor1 + valor2\n",
        "  return r\n",
        "\n",
        "num1 = int(input(\"Entre com o primerio número \"))\n",
        "num2 = int(input(\"Entre com o segundo número \"))\n",
        "resultado = faz_soma(num1, num2)\n",
        "print(resultado)"
      ]
    }
  ]
}