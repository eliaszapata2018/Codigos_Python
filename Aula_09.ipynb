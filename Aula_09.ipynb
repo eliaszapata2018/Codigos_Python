{
  "nbformat": 4,
  "nbformat_minor": 0,
  "metadata": {
    "colab": {
      "provenance": [],
      "include_colab_link": true
    },
    "kernelspec": {
      "name": "python3",
      "display_name": "Python 3"
    },
    "language_info": {
      "name": "python"
    }
  },
  "cells": [
    {
      "cell_type": "markdown",
      "metadata": {
        "id": "view-in-github",
        "colab_type": "text"
      },
      "source": [
        "<a href=\"https://colab.research.google.com/github/eliaszapata2018/Codigos_Python/blob/main/Aula_09.ipynb\" target=\"_parent\"><img src=\"https://colab.research.google.com/assets/colab-badge.svg\" alt=\"Open In Colab\"/></a>"
      ]
    },
    {
      "cell_type": "markdown",
      "source": [
        "# Aula 09 - Função III"
      ],
      "metadata": {
        "id": "kY9UwX_Yr35H"
      }
    },
    {
      "cell_type": "markdown",
      "source": [
        "## Resolução exercício"
      ],
      "metadata": {
        "id": "qO3rGSEmr6Rs"
      }
    },
    {
      "cell_type": "code",
      "execution_count": null,
      "metadata": {
        "colab": {
          "base_uri": "https://localhost:8080/"
        },
        "id": "M2E1VtP0opYQ",
        "outputId": "845f26ef-a579-4e85-ea8c-e65c43beafa0"
      },
      "outputs": [
        {
          "output_type": "stream",
          "name": "stdout",
          "text": [
            "6.9\n",
            "6.65\n",
            "5.65\n",
            "7.85\n",
            "7.7\n"
          ]
        }
      ],
      "source": [
        "def calcula_media(p1, p2):\n",
        "  media = (p1 + p2)/2\n",
        "  return media\n",
        "\n",
        "aluno1 = calcula_media(6.5, 7.3)\n",
        "print(aluno1)\n",
        "aluno2 = calcula_media(5.2, 8.1)\n",
        "print(aluno2)\n",
        "aluno3 = calcula_media(7.9, 3.4)\n",
        "print(aluno3)\n",
        "aluno4 = calcula_media(9.0, 6.7)\n",
        "print(aluno4)\n",
        "aluno5 = calcula_media(8.3, 7.1)\n",
        "print(aluno5)"
      ]
    }
  ]
}