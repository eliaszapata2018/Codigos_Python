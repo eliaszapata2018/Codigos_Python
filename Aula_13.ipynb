{
  "nbformat": 4,
  "nbformat_minor": 0,
  "metadata": {
    "colab": {
      "provenance": [],
      "include_colab_link": true
    },
    "kernelspec": {
      "name": "python3",
      "display_name": "Python 3"
    },
    "language_info": {
      "name": "python"
    }
  },
  "cells": [
    {
      "cell_type": "markdown",
      "metadata": {
        "id": "view-in-github",
        "colab_type": "text"
      },
      "source": [
        "<a href=\"https://colab.research.google.com/github/eliaszapata2018/Codigos_Python/blob/main/Aula_13.ipynb\" target=\"_parent\"><img src=\"https://colab.research.google.com/assets/colab-badge.svg\" alt=\"Open In Colab\"/></a>"
      ]
    },
    {
      "cell_type": "markdown",
      "source": [
        "# Aula 13 - Condicional"
      ],
      "metadata": {
        "id": "EPiPYR_HW7HE"
      }
    },
    {
      "cell_type": "code",
      "execution_count": null,
      "metadata": {
        "id": "335eiNw4W5-U",
        "colab": {
          "base_uri": "https://localhost:8080/"
        },
        "outputId": "fb72f0fd-21bd-4fa8-d3ed-49e8c875eeb7"
      },
      "outputs": [
        {
          "output_type": "stream",
          "name": "stdout",
          "text": [
            "Entre com o número 4\n",
            "4.0 é par\n"
          ]
        }
      ],
      "source": [
        "def checa_paridade(num):\n",
        "  if num % 2 == 0:\n",
        "    print(num, \"é par\")\n",
        "  else: \n",
        "    print(num, \"é ímpar\")\n",
        "\n",
        "num = float(input(\"Entre com o número \"))\n",
        "checa_paridade(num)"
      ]
    },
    {
      "cell_type": "code",
      "source": [
        "def compara_num(num1, num2):\n",
        "  if num1 > num2:\n",
        "    print(num1)\n",
        "  elif num1 < num2:\n",
        "    print(num2)\n",
        "  else:\n",
        "    print(\"Números iguais\")\n",
        "\n",
        "num1 = float(input(\"Entre com o primeiro número \"))\n",
        "num2 = float(input(\"Entre com o segundo número \"))\n",
        "\n",
        "compara_num(num1, num2)"
      ],
      "metadata": {
        "colab": {
          "base_uri": "https://localhost:8080/"
        },
        "id": "WI-Zi7aJlltD",
        "outputId": "2ddd1150-2373-414c-8858-29c327a2d6e6"
      },
      "execution_count": null,
      "outputs": [
        {
          "output_type": "stream",
          "name": "stdout",
          "text": [
            "Entre com o primeiro número 5\n",
            "Entre com o segundo número 1\n",
            "5.0\n"
          ]
        }
      ]
    },
    {
      "cell_type": "code",
      "source": [
        "def calcula_media(valor1, valor2):\n",
        "  return (valor1 + valor2)/2\n",
        "\n",
        "t1 = float(input(\"Entre com a nota do trabalho 1 \"))\n",
        "t2 = float(input(\"Entre com a nota do trabalho 2 \"))\n",
        "\n",
        "m = calcula_media(t1, t2) # m é a média dos trabalhos\n",
        "\n",
        "if m >= 7.0: # aluno aprovado\n",
        "  print(\"Aluno aprovado! Com média: \", m)\n",
        "elif m >= 3.0 and m < 7.0: # aluno em situação de trabalho final\n",
        "  tf = float(input(\"Aluno em situação de Trabalho Final. Entre a nota do TF \"))\n",
        "  mf = calcula_media(m, tf)\n",
        "  if mf >= 5.0:\n",
        "    print(\"Aluno aprovado com a média \", mf)\n",
        "  else:\n",
        "    print(\"Aluno reprovado com a média \", mf)\n",
        "else: # aluno reprovado direto\n",
        "  print(\"Aluno reprovado direto com média \", m)\n",
        "\n"
      ],
      "metadata": {
        "colab": {
          "base_uri": "https://localhost:8080/"
        },
        "id": "i80D2vteIyYv",
        "outputId": "ac4cc8e4-acb6-4a1c-9b4c-c4851314c505"
      },
      "execution_count": null,
      "outputs": [
        {
          "output_type": "stream",
          "name": "stdout",
          "text": [
            "Entre com a nota do trabalho 1 5\n",
            "Entre com a nota do trabalho 2 5\n",
            "Aluno em situação de Trabalho Final. Entre a nota do TF 6\n",
            "Aluno aprovado com a média  5.5\n"
          ]
        }
      ]
    }
  ]
}