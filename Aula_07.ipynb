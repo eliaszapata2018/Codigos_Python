{
  "nbformat": 4,
  "nbformat_minor": 0,
  "metadata": {
    "colab": {
      "provenance": [],
      "include_colab_link": true
    },
    "kernelspec": {
      "name": "python3",
      "display_name": "Python 3"
    },
    "language_info": {
      "name": "python"
    }
  },
  "cells": [
    {
      "cell_type": "markdown",
      "metadata": {
        "id": "view-in-github",
        "colab_type": "text"
      },
      "source": [
        "<a href=\"https://colab.research.google.com/github/eliaszapata2018/Codigos_Python/blob/main/Aula_07.ipynb\" target=\"_parent\"><img src=\"https://colab.research.google.com/assets/colab-badge.svg\" alt=\"Open In Colab\"/></a>"
      ]
    },
    {
      "cell_type": "markdown",
      "source": [
        "# Aula 07 - Função 1"
      ],
      "metadata": {
        "id": "j-XGhNtFKXaj"
      }
    },
    {
      "cell_type": "markdown",
      "source": [
        "## Motivação\n",
        "\n",
        "Escreva um código que calcule a média final de 5 alunos. O cálculo da média é feito pela média aritmética de duas provas (p1 e p2) que os alunos fizeram, segue a nota dos alunos:\n",
        "\n",
        "\n",
        "1.   Aluno 1 - p1: 6.5 e p2: 7.3\n",
        "2.   Aluno 2 - p1: 5.2 e p2: 8.1\n",
        "3.   Aluno 3 - p1: 7.9 e p2: 3.4\n",
        "4.   Aluno 4 - p1: 9.0 e p2: 6.7\n",
        "5.   Aluno 5 - p1: 8.3 e p2: 7.1"
      ],
      "metadata": {
        "id": "-BBkFm85pr25"
      }
    },
    {
      "cell_type": "code",
      "execution_count": null,
      "metadata": {
        "id": "G-aPrjj6KVvL",
        "colab": {
          "base_uri": "https://localhost:8080/"
        },
        "outputId": "03ea48eb-9ac3-442f-bee5-2c449293a4e5"
      },
      "outputs": [
        {
          "output_type": "stream",
          "name": "stdout",
          "text": [
            "Aluno 1 teve a média  6.9\n"
          ]
        }
      ],
      "source": [
        "p1 = 6.5\n",
        "p2 = 7.3\n",
        "\n",
        "media = (p1+p2)/2\n",
        "print(\"Aluno 1 teve a média \", media)"
      ]
    },
    {
      "cell_type": "code",
      "source": [
        "def calculaMedia(p1, p2):\n",
        "  return (p1+p2)/2\n",
        "\n",
        "aluno1 = calculaMedia(6.5, 7.3)\n",
        "print(aluno1)\n",
        "aluno2 = calculaMedia(5.2, 8.1)\n",
        "print(aluno2)\n",
        "aluno3 = calculaMedia(7.9, 3.4)\n",
        "print(aluno3)\n",
        "aluno4 = calculaMedia(9.0, 6.7)\n",
        "print(aluno4)\n",
        "aluno5 = calculaMedia(8.3, 7.1)\n",
        "print(aluno5)"
      ],
      "metadata": {
        "colab": {
          "base_uri": "https://localhost:8080/"
        },
        "id": "1-N0jMxRruYw",
        "outputId": "482ab40d-08c9-4a62-a901-16fd2811d253"
      },
      "execution_count": null,
      "outputs": [
        {
          "output_type": "stream",
          "name": "stdout",
          "text": [
            "6.9\n",
            "6.65\n",
            "5.65\n",
            "7.85\n",
            "7.7\n"
          ]
        }
      ]
    },
    {
      "cell_type": "code",
      "source": [
        "def definirFun():\n",
        "  print(\"Isso é uma função\")\n",
        "\n",
        "definirFun()"
      ],
      "metadata": {
        "colab": {
          "base_uri": "https://localhost:8080/"
        },
        "id": "8Tpx_9DWu3A0",
        "outputId": "bc1ba0b6-a892-4c0d-a8a8-4714ee2eb0b8"
      },
      "execution_count": null,
      "outputs": [
        {
          "output_type": "stream",
          "name": "stdout",
          "text": [
            "Isso é uma função\n"
          ]
        }
      ]
    }
  ]
}