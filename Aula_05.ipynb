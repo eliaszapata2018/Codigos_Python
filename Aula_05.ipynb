{
  "nbformat": 4,
  "nbformat_minor": 0,
  "metadata": {
    "colab": {
      "provenance": [],
      "include_colab_link": true
    },
    "kernelspec": {
      "name": "python3",
      "display_name": "Python 3"
    },
    "language_info": {
      "name": "python"
    }
  },
  "cells": [
    {
      "cell_type": "markdown",
      "metadata": {
        "id": "view-in-github",
        "colab_type": "text"
      },
      "source": [
        "<a href=\"https://colab.research.google.com/github/eliaszapata2018/Codigos_Python/blob/main/Aula_05.ipynb\" target=\"_parent\"><img src=\"https://colab.research.google.com/assets/colab-badge.svg\" alt=\"Open In Colab\"/></a>"
      ]
    },
    {
      "cell_type": "markdown",
      "source": [
        "# Aula 05 - Manuseando `strings`"
      ],
      "metadata": {
        "id": "mZOCa1TwwSOk"
      }
    },
    {
      "cell_type": "markdown",
      "source": [
        "## Tamanho de uma string"
      ],
      "metadata": {
        "id": "WfK1dU_T2FY9"
      }
    },
    {
      "cell_type": "code",
      "execution_count": null,
      "metadata": {
        "colab": {
          "base_uri": "https://localhost:8080/"
        },
        "id": "SS20Q46pwMqO",
        "outputId": "deede2b3-9754-45af-9b95-7d8749e23a4c"
      },
      "outputs": [
        {
          "output_type": "stream",
          "name": "stdout",
          "text": [
            "14\n"
          ]
        }
      ],
      "source": [
        "frase = \"sou uma string\"\n",
        "tam = len(frase)\n",
        "print(tam)"
      ]
    },
    {
      "cell_type": "markdown",
      "source": [
        "## Index"
      ],
      "metadata": {
        "id": "Sj9jQLni3tOo"
      }
    },
    {
      "cell_type": "code",
      "source": [
        "frase = \"sou uma string\"\n",
        "primeira = frase[0]\n",
        "print(primeira)"
      ],
      "metadata": {
        "colab": {
          "base_uri": "https://localhost:8080/"
        },
        "id": "nK7MMcwc3yDj",
        "outputId": "4b87e866-af5e-4dc2-b939-1b12368538c1"
      },
      "execution_count": null,
      "outputs": [
        {
          "output_type": "stream",
          "name": "stdout",
          "text": [
            "s\n"
          ]
        }
      ]
    },
    {
      "cell_type": "code",
      "source": [
        "frase = \"sou uma string\"\n",
        "terciero = frase[3]\n",
        "print(terciero)"
      ],
      "metadata": {
        "colab": {
          "base_uri": "https://localhost:8080/"
        },
        "id": "6JdBVblN4RsT",
        "outputId": "5ffbe9a4-752f-421f-92ab-13a5af4cf3e0"
      },
      "execution_count": null,
      "outputs": [
        {
          "output_type": "stream",
          "name": "stdout",
          "text": [
            " \n"
          ]
        }
      ]
    },
    {
      "cell_type": "code",
      "source": [
        "frase = \"sou uma string\"\n",
        "ultima = frase[13]\n",
        "print(ultima)"
      ],
      "metadata": {
        "colab": {
          "base_uri": "https://localhost:8080/"
        },
        "id": "dI5xh8RL4Vrj",
        "outputId": "e6a70b73-8e61-4923-a3bc-fd5ddd5ad836"
      },
      "execution_count": null,
      "outputs": [
        {
          "output_type": "stream",
          "name": "stdout",
          "text": [
            "g\n"
          ]
        }
      ]
    },
    {
      "cell_type": "code",
      "source": [
        "frase = \"sou uma string\"\n",
        "index_ultimo = len(frase) - 1\n",
        "ultimo = frase[index_ultimo]\n",
        "print(ultimo)"
      ],
      "metadata": {
        "colab": {
          "base_uri": "https://localhost:8080/"
        },
        "id": "IhIafYoL40BW",
        "outputId": "64586931-5ee3-4e55-e6d9-ac1a413ab699"
      },
      "execution_count": null,
      "outputs": [
        {
          "output_type": "stream",
          "name": "stdout",
          "text": [
            "g\n"
          ]
        }
      ]
    },
    {
      "cell_type": "code",
      "source": [
        "frase = \"sou uma string\"\n",
        "ultima = frase[-1]\n",
        "print(ultima)"
      ],
      "metadata": {
        "colab": {
          "base_uri": "https://localhost:8080/"
        },
        "id": "A7P6EfId5iot",
        "outputId": "b4b698e0-4efd-4d47-84b4-bd7db516b5e7"
      },
      "execution_count": null,
      "outputs": [
        {
          "output_type": "stream",
          "name": "stdout",
          "text": [
            "g\n"
          ]
        }
      ]
    },
    {
      "cell_type": "markdown",
      "source": [
        "## Slicing"
      ],
      "metadata": {
        "id": "8uDjcUHv6qxQ"
      }
    },
    {
      "cell_type": "code",
      "source": [
        "frase = \"sou uma string\"\n",
        "sub = frase[0:2]\n",
        "print(sub)"
      ],
      "metadata": {
        "colab": {
          "base_uri": "https://localhost:8080/"
        },
        "id": "c9JG4pje7V2b",
        "outputId": "cac1f375-7838-4cf6-c8e4-d5771830404f"
      },
      "execution_count": null,
      "outputs": [
        {
          "output_type": "stream",
          "name": "stdout",
          "text": [
            "so\n"
          ]
        }
      ]
    },
    {
      "cell_type": "code",
      "source": [
        "frase = \"sou uma string\"\n",
        "sub = frase[0:3]\n",
        "print(sub)"
      ],
      "metadata": {
        "colab": {
          "base_uri": "https://localhost:8080/"
        },
        "id": "jzOHZTJK7Zf5",
        "outputId": "d6557475-e064-4dd4-cb18-c32da0b6e571"
      },
      "execution_count": null,
      "outputs": [
        {
          "output_type": "stream",
          "name": "stdout",
          "text": [
            "sou\n"
          ]
        }
      ]
    },
    {
      "cell_type": "code",
      "source": [
        "frase = \"sou uma string\"\n",
        "sub = frase[4:7]\n",
        "print(sub)"
      ],
      "metadata": {
        "colab": {
          "base_uri": "https://localhost:8080/"
        },
        "id": "5Ks23s-W6zuv",
        "outputId": "706bb65e-5d75-4de4-c52b-f3a12d74c904"
      },
      "execution_count": null,
      "outputs": [
        {
          "output_type": "stream",
          "name": "stdout",
          "text": [
            "uma\n"
          ]
        }
      ]
    },
    {
      "cell_type": "markdown",
      "source": [
        "## Concatenação"
      ],
      "metadata": {
        "id": "S9drYGZ49R1p"
      }
    },
    {
      "cell_type": "code",
      "source": [
        "string1 = \"Oi\"\n",
        "string2 = \"Larissa\"\n",
        "resultado = string1 + string2\n",
        "print(resultado)"
      ],
      "metadata": {
        "colab": {
          "base_uri": "https://localhost:8080/"
        },
        "id": "9qoHp8Js9Tnj",
        "outputId": "5932fbca-9e0c-46a5-debf-eb027a81cb9f"
      },
      "execution_count": null,
      "outputs": [
        {
          "output_type": "stream",
          "name": "stdout",
          "text": [
            "OiLarissa\n"
          ]
        }
      ]
    },
    {
      "cell_type": "code",
      "source": [
        "string1 = \"Oi\"\n",
        "string2 = \"Larissa\"\n",
        "resultado = string1 + ' ' + string2\n",
        "print(resultado)"
      ],
      "metadata": {
        "colab": {
          "base_uri": "https://localhost:8080/"
        },
        "id": "7Xpko00z9l2x",
        "outputId": "feee3180-f79a-44a9-9655-27d20539b143"
      },
      "execution_count": null,
      "outputs": [
        {
          "output_type": "stream",
          "name": "stdout",
          "text": [
            "Oi Larissa\n"
          ]
        }
      ]
    },
    {
      "cell_type": "markdown",
      "source": [
        "## Repetir"
      ],
      "metadata": {
        "id": "-rcjeQPM-Vw0"
      }
    },
    {
      "cell_type": "code",
      "source": [
        "string1 = \"Larissa\"\n",
        "resultado = string1*2\n",
        "print(resultado)"
      ],
      "metadata": {
        "colab": {
          "base_uri": "https://localhost:8080/"
        },
        "id": "LomMClj4-W5c",
        "outputId": "e0aec744-c671-4eec-e9de-3baeab0e39f2"
      },
      "execution_count": null,
      "outputs": [
        {
          "output_type": "stream",
          "name": "stdout",
          "text": [
            "LarissaLarissa\n"
          ]
        }
      ]
    },
    {
      "cell_type": "markdown",
      "source": [
        "## Achar elemetnos `find()`\n"
      ],
      "metadata": {
        "id": "BMp_mMwu_ARK"
      }
    },
    {
      "cell_type": "code",
      "source": [
        "frase = \"sou uma string\"\n",
        "pos = frase.find(\"o\")\n",
        "print(pos)"
      ],
      "metadata": {
        "colab": {
          "base_uri": "https://localhost:8080/"
        },
        "id": "4B8NnqkO_CuO",
        "outputId": "4686cabc-c992-462c-9b6d-4af91ee6cf8a"
      },
      "execution_count": null,
      "outputs": [
        {
          "output_type": "stream",
          "name": "stdout",
          "text": [
            "1\n"
          ]
        }
      ]
    },
    {
      "cell_type": "markdown",
      "source": [
        "## Transformar em string"
      ],
      "metadata": {
        "id": "0Amv0PGhF6Qx"
      }
    },
    {
      "cell_type": "code",
      "source": [
        "num_int = 2\n",
        "print(num_int)\n",
        "num_str = str(num_int)\n",
        "print(num_str)"
      ],
      "metadata": {
        "colab": {
          "base_uri": "https://localhost:8080/"
        },
        "id": "JawU8YLUF9CL",
        "outputId": "322416ea-0840-4964-cdc7-27635f1018cd"
      },
      "execution_count": null,
      "outputs": [
        {
          "output_type": "stream",
          "name": "stdout",
          "text": [
            "2\n",
            "2\n"
          ]
        }
      ]
    },
    {
      "cell_type": "code",
      "source": [
        "num = 2\n",
        "frase = \"o número é \" + str(num) # transformo o número em string para depois juntar com a frase\n",
        "print(frase)"
      ],
      "metadata": {
        "colab": {
          "base_uri": "https://localhost:8080/"
        },
        "id": "csS0oMCBGOav",
        "outputId": "340d25ed-df84-4707-906a-1e1410a5fe64"
      },
      "execution_count": null,
      "outputs": [
        {
          "output_type": "stream",
          "name": "stdout",
          "text": [
            "o número é 2\n"
          ]
        }
      ]
    },
    {
      "cell_type": "code",
      "source": [
        "num = 2\n",
        "frase = \"o número é \" + num # não faço a transformação\n",
        "print(frase)"
      ],
      "metadata": {
        "id": "17u6iB2HGRZC",
        "outputId": "c6394353-2072-4e52-8ac5-2255ea4726b7",
        "colab": {
          "base_uri": "https://localhost:8080/",
          "height": 201
        }
      },
      "execution_count": 3,
      "outputs": [
        {
          "output_type": "error",
          "ename": "TypeError",
          "evalue": "ignored",
          "traceback": [
            "\u001b[0;31m---------------------------------------------------------------------------\u001b[0m",
            "\u001b[0;31mTypeError\u001b[0m                                 Traceback (most recent call last)",
            "\u001b[0;32m<ipython-input-3-d7d852a52428>\u001b[0m in \u001b[0;36m<module>\u001b[0;34m\u001b[0m\n\u001b[1;32m      1\u001b[0m \u001b[0mnum\u001b[0m \u001b[0;34m=\u001b[0m \u001b[0;36m2\u001b[0m\u001b[0;34m\u001b[0m\u001b[0;34m\u001b[0m\u001b[0m\n\u001b[0;32m----> 2\u001b[0;31m \u001b[0mfrase\u001b[0m \u001b[0;34m=\u001b[0m \u001b[0;34m\"o número é \"\u001b[0m \u001b[0;34m+\u001b[0m \u001b[0mnum\u001b[0m \u001b[0;31m# não faço a transformação\u001b[0m\u001b[0;34m\u001b[0m\u001b[0;34m\u001b[0m\u001b[0m\n\u001b[0m\u001b[1;32m      3\u001b[0m \u001b[0mprint\u001b[0m\u001b[0;34m(\u001b[0m\u001b[0mfrase\u001b[0m\u001b[0;34m)\u001b[0m\u001b[0;34m\u001b[0m\u001b[0;34m\u001b[0m\u001b[0m\n",
            "\u001b[0;31mTypeError\u001b[0m: can only concatenate str (not \"int\") to str"
          ]
        }
      ]
    }
  ]
}