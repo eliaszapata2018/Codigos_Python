{
  "nbformat": 4,
  "nbformat_minor": 0,
  "metadata": {
    "colab": {
      "provenance": [],
      "include_colab_link": true
    },
    "kernelspec": {
      "name": "python3",
      "display_name": "Python 3"
    },
    "language_info": {
      "name": "python"
    }
  },
  "cells": [
    {
      "cell_type": "markdown",
      "metadata": {
        "id": "view-in-github",
        "colab_type": "text"
      },
      "source": [
        "<a href=\"https://colab.research.google.com/github/eliaszapata2018/Codigos_Python/blob/main/Aula_03.ipynb\" target=\"_parent\"><img src=\"https://colab.research.google.com/assets/colab-badge.svg\" alt=\"Open In Colab\"/></a>"
      ]
    },
    {
      "cell_type": "markdown",
      "source": [
        "# Variáveis"
      ],
      "metadata": {
        "id": "PaaI_vySUqg4"
      }
    },
    {
      "cell_type": "markdown",
      "source": [
        "## IMC com variáveis 1"
      ],
      "metadata": {
        "id": "HUW3DOZ5UspC"
      }
    },
    {
      "cell_type": "code",
      "execution_count": null,
      "metadata": {
        "id": "ozDWAJTP3UsB",
        "colab": {
          "base_uri": "https://localhost:8080/"
        },
        "outputId": "2bc58a33-3cbe-426d-e1dc-7b9e4ad4d5d7"
      },
      "outputs": [
        {
          "output_type": "execute_result",
          "data": {
            "text/plain": [
              "20.202020202020204"
            ]
          },
          "metadata": {},
          "execution_count": 2
        }
      ],
      "source": [
        "peso = 55\n",
        "altura = 1.65\n",
        "\n",
        "peso / (altura * altura)"
      ]
    },
    {
      "cell_type": "markdown",
      "source": [
        "## `print()`"
      ],
      "metadata": {
        "id": "miOXOqLIV8G_"
      }
    },
    {
      "cell_type": "code",
      "source": [
        "print(\"Hello World\")"
      ],
      "metadata": {
        "colab": {
          "base_uri": "https://localhost:8080/"
        },
        "id": "cJS9qkL5V--h",
        "outputId": "7fbc3655-5e64-470d-bb5c-5de36d597ab1"
      },
      "execution_count": null,
      "outputs": [
        {
          "output_type": "stream",
          "name": "stdout",
          "text": [
            "Hello World\n"
          ]
        }
      ]
    },
    {
      "cell_type": "code",
      "source": [
        "print(\"Olá pessoal!\")"
      ],
      "metadata": {
        "colab": {
          "base_uri": "https://localhost:8080/"
        },
        "id": "TlmSuVxfWFxD",
        "outputId": "0012c368-ee7b-4b2d-ffae-d5e77b422cd9"
      },
      "execution_count": null,
      "outputs": [
        {
          "output_type": "stream",
          "name": "stdout",
          "text": [
            "Olá pessoal!\n"
          ]
        }
      ]
    },
    {
      "cell_type": "code",
      "source": [
        "peso = 55\n",
        "print(peso)"
      ],
      "metadata": {
        "colab": {
          "base_uri": "https://localhost:8080/"
        },
        "id": "GiUbHGrEWI8w",
        "outputId": "b932dc6c-5298-491d-f593-95377cf6a6f8"
      },
      "execution_count": null,
      "outputs": [
        {
          "output_type": "stream",
          "name": "stdout",
          "text": [
            "55\n"
          ]
        }
      ]
    },
    {
      "cell_type": "code",
      "source": [
        "peso = 55\n",
        "altura = 1.65\n",
        "\n",
        "imc = peso / (altura * altura)\n",
        "print(imc)"
      ],
      "metadata": {
        "colab": {
          "base_uri": "https://localhost:8080/"
        },
        "id": "WQqSMCfEXEnp",
        "outputId": "c9c3dbc4-534f-4a7b-c429-d6bf54a13a51"
      },
      "execution_count": null,
      "outputs": [
        {
          "output_type": "stream",
          "name": "stdout",
          "text": [
            "20.202020202020204\n"
          ]
        }
      ]
    },
    {
      "cell_type": "code",
      "source": [
        "peso = 55\n",
        "altura = 1.65\n",
        "\n",
        "imc = peso / (altura * altura)\n",
        "print(\"Seu IMC é \", imc)"
      ],
      "metadata": {
        "colab": {
          "base_uri": "https://localhost:8080/"
        },
        "id": "Kf1JjPuwXdvn",
        "outputId": "1e7c3a70-d79f-4ba4-d858-46fa8ee2a331"
      },
      "execution_count": null,
      "outputs": [
        {
          "output_type": "stream",
          "name": "stdout",
          "text": [
            "Seu IMC é  20.202020202020204\n"
          ]
        }
      ]
    },
    {
      "cell_type": "markdown",
      "source": [
        "## Mais de variáveis"
      ],
      "metadata": {
        "id": "zmZIMQBbYLrx"
      }
    },
    {
      "cell_type": "code",
      "source": [
        "frase = \"Sou uma frase dentro de uma variável\"\n",
        "print(frase)"
      ],
      "metadata": {
        "colab": {
          "base_uri": "https://localhost:8080/"
        },
        "id": "UFiMB-TjYNNt",
        "outputId": "a9df0a2f-059f-451d-ceec-68e0484125da"
      },
      "execution_count": null,
      "outputs": [
        {
          "output_type": "stream",
          "name": "stdout",
          "text": [
            "Sou uma frase dentro de uma variável\n"
          ]
        }
      ]
    },
    {
      "cell_type": "code",
      "source": [
        "nome = \"Andres\"\n",
        "peso = 90\n",
        "altura = 1.80\n",
        "\n",
        "imc = peso / (altura * altura)\n",
        "print(nome, \"seu IMC é\", imc)"
      ],
      "metadata": {
        "colab": {
          "base_uri": "https://localhost:8080/"
        },
        "id": "DJ7GLshhYdkq",
        "outputId": "7369447c-2503-480b-cd5a-e36d82621509"
      },
      "execution_count": 2,
      "outputs": [
        {
          "output_type": "stream",
          "name": "stdout",
          "text": [
            "Andres seu IMC é 27.777777777777775\n"
          ]
        }
      ]
    }
  ]
}