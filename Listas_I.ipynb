{
  "nbformat": 4,
  "nbformat_minor": 0,
  "metadata": {
    "colab": {
      "provenance": [],
      "include_colab_link": true
    },
    "kernelspec": {
      "name": "python3",
      "display_name": "Python 3"
    },
    "language_info": {
      "name": "python"
    }
  },
  "cells": [
    {
      "cell_type": "markdown",
      "metadata": {
        "id": "view-in-github",
        "colab_type": "text"
      },
      "source": [
        "<a href=\"https://colab.research.google.com/github/eliaszapata2018/Codigos_Python/blob/main/Listas_I.ipynb\" target=\"_parent\"><img src=\"https://colab.research.google.com/assets/colab-badge.svg\" alt=\"Open In Colab\"/></a>"
      ]
    },
    {
      "cell_type": "markdown",
      "source": [
        "# Aula 16 - Listas I"
      ],
      "metadata": {
        "id": "4NvmfWFze4Pj"
      }
    },
    {
      "cell_type": "code",
      "execution_count": null,
      "metadata": {
        "colab": {
          "base_uri": "https://localhost:8080/"
        },
        "id": "5-aWnf1ue22m",
        "outputId": "8ecf7956-0e27-4807-9e84-e044e6d11a3c"
      },
      "outputs": [
        {
          "output_type": "stream",
          "name": "stdout",
          "text": [
            "[0, 1, 2, 'nome', 4.5]\n"
          ]
        }
      ],
      "source": [
        "# exemplo de lista\n",
        "lista = [0, 1, 2, 'nome', 4.5]\n",
        "print(lista)"
      ]
    },
    {
      "cell_type": "code",
      "source": [
        "lista_num = [1, 2, 3, 4]\n",
        "print(lista_num)"
      ],
      "metadata": {
        "colab": {
          "base_uri": "https://localhost:8080/"
        },
        "id": "E9F0k3dWMi8U",
        "outputId": "f0830d0c-befb-4236-822e-97579a0fe3de"
      },
      "execution_count": null,
      "outputs": [
        {
          "output_type": "stream",
          "name": "stdout",
          "text": [
            "[1, 2, 3, 4]\n"
          ]
        }
      ]
    },
    {
      "cell_type": "code",
      "source": [
        "lista_vazia = []\n",
        "print(lista_vazia)"
      ],
      "metadata": {
        "colab": {
          "base_uri": "https://localhost:8080/"
        },
        "id": "ooZHx8CFMo2s",
        "outputId": "557a5b13-7fb3-48fe-f295-4a29796a634a"
      },
      "execution_count": null,
      "outputs": [
        {
          "output_type": "stream",
          "name": "stdout",
          "text": [
            "[]\n"
          ]
        }
      ]
    },
    {
      "cell_type": "code",
      "source": [
        "lista = [0, 1, 2, 'nome', 4.5]\n",
        "print(lista[0])\n",
        "print(lista[3])"
      ],
      "metadata": {
        "colab": {
          "base_uri": "https://localhost:8080/"
        },
        "id": "biAhgKOKOnrD",
        "outputId": "905099c0-6bf3-4d66-a11b-cb7742a073af"
      },
      "execution_count": null,
      "outputs": [
        {
          "output_type": "stream",
          "name": "stdout",
          "text": [
            "0\n",
            "nome\n"
          ]
        }
      ]
    },
    {
      "cell_type": "code",
      "source": [
        "lista = []\n",
        "print(lista) # antes\n",
        "lista.append(16) # insere ao final, sempre\n",
        "print(lista) # depois"
      ],
      "metadata": {
        "colab": {
          "base_uri": "https://localhost:8080/"
        },
        "id": "_1ktAZThVLBH",
        "outputId": "ef76a5c9-a00b-4711-82cd-49a38b5fa977"
      },
      "execution_count": null,
      "outputs": [
        {
          "output_type": "stream",
          "name": "stdout",
          "text": [
            "[]\n",
            "[16]\n"
          ]
        }
      ]
    },
    {
      "cell_type": "code",
      "source": [
        "lista = [1, 6, 5, 4, 3, 1, 7, 1, 1]\n",
        "print(lista)\n",
        "lista.remove(7) # remover o elemento 7\n",
        "print(lista)\n",
        "lista.pop(1) # remover o elemento do index 1 (o 6)\n",
        "print(lista)"
      ],
      "metadata": {
        "colab": {
          "base_uri": "https://localhost:8080/"
        },
        "id": "NJ9H87o9YaoC",
        "outputId": "2234f023-7a78-4e99-c4e0-e43079a47cf2"
      },
      "execution_count": null,
      "outputs": [
        {
          "output_type": "stream",
          "name": "stdout",
          "text": [
            "[1, 6, 5, 4, 3, 1, 7, 1, 1]\n",
            "[1, 6, 5, 4, 3, 1, 1, 1]\n",
            "[1, 5, 4, 3, 1, 1, 1]\n"
          ]
        }
      ]
    },
    {
      "cell_type": "code",
      "source": [
        "lista = [1, 6, 5, 4, 3, 1, 7, 1, 1]\n",
        "print(lista.count(1))\n",
        "lista.sort()\n",
        "print(lista)"
      ],
      "metadata": {
        "colab": {
          "base_uri": "https://localhost:8080/"
        },
        "id": "nJvE3BRgZEsS",
        "outputId": "4fdac081-dd6d-4d54-fb8e-78a43456a069"
      },
      "execution_count": null,
      "outputs": [
        {
          "output_type": "stream",
          "name": "stdout",
          "text": [
            "4\n",
            "[1, 1, 1, 1, 3, 4, 5, 6, 7]\n"
          ]
        }
      ]
    },
    {
      "cell_type": "code",
      "source": [
        "lista = [1, 6, 5, 4, 3, 1, 7, 1, 1]\n",
        "print(lista)\n",
        "lista[0] = 8\n",
        "print(lista)"
      ],
      "metadata": {
        "colab": {
          "base_uri": "https://localhost:8080/"
        },
        "id": "Ui_O1cYdZkZv",
        "outputId": "c057857e-9952-462d-e123-d47db4e438a2"
      },
      "execution_count": null,
      "outputs": [
        {
          "output_type": "stream",
          "name": "stdout",
          "text": [
            "[1, 6, 5, 4, 3, 1, 7, 1, 1]\n",
            "[8, 6, 5, 4, 3, 1, 7, 1, 1]\n"
          ]
        }
      ]
    },
    {
      "cell_type": "code",
      "source": [
        "lista_num = [1, 2, 3, 4, 5, 6]\n",
        "print(4 in lista_num)"
      ],
      "metadata": {
        "colab": {
          "base_uri": "https://localhost:8080/"
        },
        "id": "d7dQtt3tOp2v",
        "outputId": "7ff016d9-899a-474c-b26c-42f74a8ca854"
      },
      "execution_count": null,
      "outputs": [
        {
          "output_type": "stream",
          "name": "stdout",
          "text": [
            "True\n"
          ]
        }
      ]
    },
    {
      "cell_type": "code",
      "source": [
        "lista_num = [1, 2, 3, 4, 5, 6]\n",
        "print(min(lista_num))"
      ],
      "metadata": {
        "colab": {
          "base_uri": "https://localhost:8080/"
        },
        "id": "xz9bJ0FvTmFh",
        "outputId": "539253db-4498-436d-8428-8ad9c57d2cfa"
      },
      "execution_count": null,
      "outputs": [
        {
          "output_type": "stream",
          "name": "stdout",
          "text": [
            "1\n"
          ]
        }
      ]
    },
    {
      "cell_type": "code",
      "source": [
        "lista_num = [1, 2, 3, 4, 5, 6]\n",
        "print(sum(lista_num))"
      ],
      "metadata": {
        "colab": {
          "base_uri": "https://localhost:8080/"
        },
        "id": "sj_tSBD_Usx9",
        "outputId": "519bae9f-9c4e-4d26-851d-18d29852ec3b"
      },
      "execution_count": null,
      "outputs": [
        {
          "output_type": "stream",
          "name": "stdout",
          "text": [
            "21\n"
          ]
        }
      ]
    }
  ]
}