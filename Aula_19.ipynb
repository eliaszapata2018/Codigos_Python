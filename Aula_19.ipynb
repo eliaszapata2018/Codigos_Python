{
  "nbformat": 4,
  "nbformat_minor": 0,
  "metadata": {
    "colab": {
      "provenance": [],
      "include_colab_link": true
    },
    "kernelspec": {
      "name": "python3",
      "display_name": "Python 3"
    },
    "language_info": {
      "name": "python"
    }
  },
  "cells": [
    {
      "cell_type": "markdown",
      "metadata": {
        "id": "view-in-github",
        "colab_type": "text"
      },
      "source": [
        "<a href=\"https://colab.research.google.com/github/eliaszapata2018/Codigos_Python/blob/main/Aula_19.ipynb\" target=\"_parent\"><img src=\"https://colab.research.google.com/assets/colab-badge.svg\" alt=\"Open In Colab\"/></a>"
      ]
    },
    {
      "cell_type": "markdown",
      "source": [
        "# Aula 19 - Matrizes"
      ],
      "metadata": {
        "id": "FezF7uUahZAf"
      }
    },
    {
      "cell_type": "code",
      "execution_count": null,
      "metadata": {
        "id": "h5hs-lfAhKsT",
        "colab": {
          "base_uri": "https://localhost:8080/"
        },
        "outputId": "4a03bda6-9f91-4c39-fa43-3e46b2630a96"
      },
      "outputs": [
        {
          "output_type": "stream",
          "name": "stdout",
          "text": [
            "2\n"
          ]
        }
      ],
      "source": [
        "turma = [ [\"Arthur\", 5.0], [\"Leticia\", 7.0], [\"Paula\", 8.0] ]\n",
        "print(len(turma[0]))"
      ]
    },
    {
      "cell_type": "code",
      "source": [
        "turma = [ [\"Arthur\", 5.0], [\"Leticia\", 7.0], [\"Paula\", 8.0] ]\n",
        "print(turma[1][0])"
      ],
      "metadata": {
        "colab": {
          "base_uri": "https://localhost:8080/"
        },
        "id": "SSEQBZHIC6ZK",
        "outputId": "50055c31-d333-4e5f-d19e-5acdf7c99f19"
      },
      "execution_count": null,
      "outputs": [
        {
          "output_type": "stream",
          "name": "stdout",
          "text": [
            "Leticia\n"
          ]
        }
      ]
    },
    {
      "cell_type": "code",
      "source": [
        "# Criando uma matriz - op. 1\n",
        "matriz = [[]]\n",
        "\n",
        "# Criando uma matriz - op. 2\n",
        "lista = []\n",
        "lista.append([])"
      ],
      "metadata": {
        "id": "OOmIvmEh_2lU"
      },
      "execution_count": null,
      "outputs": []
    },
    {
      "cell_type": "markdown",
      "source": [
        "## Percorrendo listas"
      ],
      "metadata": {
        "id": "tFYP-4MAAR62"
      }
    },
    {
      "cell_type": "code",
      "source": [
        "notas = [5.0, 7.0, 8.0]\n",
        "\n",
        "for i in notas:\n",
        "  print(i)"
      ],
      "metadata": {
        "colab": {
          "base_uri": "https://localhost:8080/"
        },
        "id": "5D9glmvdATzn",
        "outputId": "aed16e21-baa9-48b4-e4b5-4ce110c705c2"
      },
      "execution_count": null,
      "outputs": [
        {
          "output_type": "stream",
          "name": "stdout",
          "text": [
            "5.0\n",
            "7.0\n",
            "8.0\n"
          ]
        }
      ]
    },
    {
      "cell_type": "markdown",
      "source": [
        "## Percorrendo matrizes"
      ],
      "metadata": {
        "id": "JJ7TWXV5BLl0"
      }
    },
    {
      "cell_type": "code",
      "source": [
        "turma = [ [\"Arthur\", 5.0], [\"Leticia\", 7.0], [\"Paula\", 8.0] ]\n",
        "for i in turma:\n",
        "    print(i)"
      ],
      "metadata": {
        "colab": {
          "base_uri": "https://localhost:8080/"
        },
        "id": "8Y-Y6ucrBLQi",
        "outputId": "fad99d28-a66e-4b6b-d444-9435b4357029"
      },
      "execution_count": null,
      "outputs": [
        {
          "output_type": "stream",
          "name": "stdout",
          "text": [
            "['Arthur', 5.0]\n",
            "['Leticia', 7.0]\n",
            "['Paula', 8.0]\n"
          ]
        }
      ]
    },
    {
      "cell_type": "code",
      "source": [
        "turma = [ [\"Arthur\", 5.0], [\"Leticia\", 7.0], [\"Paula\", 8.0] ]\n",
        "for i in turma:\n",
        "  for j in i:\n",
        "    print(j)"
      ],
      "metadata": {
        "colab": {
          "base_uri": "https://localhost:8080/"
        },
        "id": "6BuVco7pBUNH",
        "outputId": "0f11a570-d92b-4fc5-c1e6-2b00247c1479"
      },
      "execution_count": null,
      "outputs": [
        {
          "output_type": "stream",
          "name": "stdout",
          "text": [
            "Arthur\n",
            "5.0\n",
            "Leticia\n",
            "7.0\n",
            "Paula\n",
            "8.0\n"
          ]
        }
      ]
    },
    {
      "cell_type": "markdown",
      "source": [
        "## Resolvendo exercício"
      ],
      "metadata": {
        "id": "_fHMRQH4E6Gp"
      }
    },
    {
      "cell_type": "code",
      "source": [
        "turma = []\n",
        "tam_turma = 3\n",
        "\n",
        "# Loop para pegar as informações\n",
        "for i in range(tam_turma):\n",
        "    linha = []\n",
        "    for j in range(2):\n",
        "      if j == 0:\n",
        "        linha.append(input(\"Entre com o nome do aluno(a) \"))\n",
        "      else:\n",
        "        linha.append(float(input(\"Entre com a nota de \" + linha[0] + ' ')))\n",
        "    turma.append(linha)\n",
        "      \n",
        "# Loop para o calculo da média\n",
        "notas = []\n",
        "for i in turma:\n",
        "  notas.append(i[1])\n",
        "\n",
        "media = sum(notas)/len(notas)\n",
        "\n",
        "# Loop para impressão do resultado\n",
        "for i in turma:\n",
        "  if i[1] >= media:\n",
        "    print(\"Parabéns\", i[0])"
      ],
      "metadata": {
        "colab": {
          "base_uri": "https://localhost:8080/"
        },
        "id": "fR_yhj9wE9ax",
        "outputId": "7f7bd849-9fee-4472-cf3c-4231d55a06a8"
      },
      "execution_count": null,
      "outputs": [
        {
          "output_type": "stream",
          "name": "stdout",
          "text": [
            "Entre com o nome do aluno(a) a\n",
            "Entre com a nota de a 5\n",
            "Entre com o nome do aluno(a) a\n",
            "Entre com a nota de a 8\n",
            "Entre com o nome do aluno(a) b\n",
            "Entre com a nota de b 8\n",
            "Parabéns a\n",
            "Parabéns b\n"
          ]
        }
      ]
    }
  ]
}