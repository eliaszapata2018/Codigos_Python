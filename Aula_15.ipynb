{
  "nbformat": 4,
  "nbformat_minor": 0,
  "metadata": {
    "colab": {
      "provenance": [],
      "include_colab_link": true
    },
    "kernelspec": {
      "name": "python3",
      "display_name": "Python 3"
    },
    "language_info": {
      "name": "python"
    }
  },
  "cells": [
    {
      "cell_type": "markdown",
      "metadata": {
        "id": "view-in-github",
        "colab_type": "text"
      },
      "source": [
        "<a href=\"https://colab.research.google.com/github/eliaszapata2018/Codigos_Python/blob/main/Aula_15.ipynb\" target=\"_parent\"><img src=\"https://colab.research.google.com/assets/colab-badge.svg\" alt=\"Open In Colab\"/></a>"
      ]
    },
    {
      "cell_type": "markdown",
      "source": [
        "# Aula 15 - Loops II"
      ],
      "metadata": {
        "id": "xF5YVvg8YywO"
      }
    },
    {
      "cell_type": "code",
      "execution_count": 1,
      "metadata": {
        "colab": {
          "base_uri": "https://localhost:8080/"
        },
        "id": "0f4sIQdlYQA2",
        "outputId": "0254d532-6154-4c38-f214-f5ca5d393ac5"
      },
      "outputs": [
        {
          "output_type": "stream",
          "name": "stdout",
          "text": [
            "A\n",
            "n\n",
            "d\n",
            "r\n",
            "e\n",
            "s\n"
          ]
        }
      ],
      "source": [
        "nome = \"Andres\"\n",
        "for elemento in nome:\n",
        "  print(elemento)"
      ]
    },
    {
      "cell_type": "code",
      "source": [
        "frase = \"o rato roeu a roupa do Rei de Roma\"\n",
        "\n",
        "contador = 0\n",
        "\n",
        "for elemento in frase:\n",
        "  if elemento == 'r' or elemento == 'R':\n",
        "    contador = contador + 1\n",
        "\n",
        "print(\"A frase tem \", contador, \"rs e Rs\")"
      ],
      "metadata": {
        "colab": {
          "base_uri": "https://localhost:8080/"
        },
        "id": "_VeCBQEzbZa9",
        "outputId": "a9c1cbfc-c1b1-4b9d-b11a-1ca7f4942844"
      },
      "execution_count": null,
      "outputs": [
        {
          "output_type": "stream",
          "name": "stdout",
          "text": [
            "A frase tem  5 rs e Rs\n"
          ]
        }
      ]
    },
    {
      "cell_type": "code",
      "source": [
        "for i in range(0, 10, 2):\n",
        "  print(i)"
      ],
      "metadata": {
        "colab": {
          "base_uri": "https://localhost:8080/"
        },
        "id": "ZLNYZaZ5cUNp",
        "outputId": "f1f2dc70-e8db-4630-e89f-10b023b5216c"
      },
      "execution_count": null,
      "outputs": [
        {
          "output_type": "stream",
          "name": "stdout",
          "text": [
            "0\n",
            "2\n",
            "4\n",
            "6\n",
            "8\n"
          ]
        }
      ]
    }
  ]
}